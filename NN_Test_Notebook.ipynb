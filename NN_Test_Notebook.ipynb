{
 "cells": [
  {
   "cell_type": "code",
   "execution_count": 1,
   "metadata": {},
   "outputs": [],
   "source": [
    "import numpynn as nn\n",
    "import numpy as np"
   ]
  },
  {
   "cell_type": "code",
   "execution_count": 2,
   "metadata": {},
   "outputs": [],
   "source": [
    "from sklearn.datasets import load_digits\n",
    "\n",
    "X,y = load_digits(return_X_y = True)\n",
    "\n",
    "y_5 = (y == 5) * 1.\n",
    "y_5 = y_5.reshape(1, 1797)\n",
    "\n",
    "X_new = X.reshape(64, 1797)"
   ]
  },
  {
   "cell_type": "code",
   "execution_count": 28,
   "metadata": {},
   "outputs": [],
   "source": [
    "def run_nn(X, Y, epochs=100, learning_rate=.01):\n",
    "    n_X = X.shape[0]\n",
    "    n_y = Y.shape[0]\n",
    "    weights = {'positive' : 1.8,\n",
    "               'negative' : .2}\n",
    "    \n",
    "    layer_dims = np.array([n_X, 24, n_y])\n",
    "    np.random.seed(1234)\n",
    "    parameters = nn.initialize_weights(layer_dims)\n",
    "    costs = []\n",
    "    \n",
    "    for epoch in range(epochs):\n",
    "        y_hat, cache = nn.forward_propagation_L_layers(X, parameters)\n",
    "        #print(y_hat.shape, Y.shape)\n",
    "        assert y_hat.shape == Y.shape\n",
    "        cost = nn.logistic_cost(y_hat, Y, weights)\n",
    "        costs.append(cost)\n",
    "        #print(cost)\n",
    "        grads = nn.back_propagation(Y, cache, parameters, weights)\n",
    "        parameters = nn.update_params(parameters, grads, learning_rate)\n",
    "    \n",
    "    return parameters, costs"
   ]
  },
  {
   "cell_type": "code",
   "execution_count": 29,
   "metadata": {},
   "outputs": [],
   "source": [
    "parameters, costs = run_nn(X_new, y_5, epochs=12000, learning_rate=.01)"
   ]
  },
  {
   "cell_type": "code",
   "execution_count": 30,
   "metadata": {},
   "outputs": [
    {
     "data": {
      "text/plain": [
       "[<matplotlib.lines.Line2D at 0x192cf56eb70>]"
      ]
     },
     "execution_count": 30,
     "metadata": {},
     "output_type": "execute_result"
    },
    {
     "data": {
      "image/png": "[encoded data removed]",
      "text/plain": [
       "<matplotlib.figure.Figure at 0x192cf3117f0>"
      ]
     },
     "metadata": {},
     "output_type": "display_data"
    }
   ],
   "source": [
    "%matplotlib inline\n",
    "import matplotlib.pyplot as plt\n",
    "plt.plot(np.squeeze(costs))"
   ]
  },
  {
   "cell_type": "code",
   "execution_count": 31,
   "metadata": {},
   "outputs": [
    {
     "name": "stdout",
     "output_type": "stream",
     "text": [
      "Proportion Correct Positive: 1.0\n",
      "Proportion Correct Negative: 0.9882352941176471\n",
      "Overall Accuracy: 0.9894268224819143\n"
     ]
    }
   ],
   "source": [
    "m = y_5.shape[1]\n",
    "y_hat, _ = nn.forward_propagation_L_layers(X_new, parameters)\n",
    "\n",
    "tp = np.sum((y_5 == 1) * (y_hat > .5))\n",
    "tn = np.sum((y_5 == 0) * (y_hat < .5))\n",
    "pos = np.sum(y_5 == 1)\n",
    "neg = np.sum(y_5 == 0)\n",
    "\n",
    "pos_accuracy = tp / pos\n",
    "neg_accuracy = tn / neg\n",
    "\n",
    "print(\"Proportion Correct Positive:\", pos_accuracy)\n",
    "print(\"Proportion Correct Negative:\", neg_accuracy)\n",
    "print(\"Overall Accuracy:\", (tp + tn)/(pos + neg))"
   ]
  },
  {
   "cell_type": "code",
   "execution_count": null,
   "metadata": {},
   "outputs": [],
   "source": []
  }
 ],
 "metadata": {
  "interpreter": {
   "hash": "2611e6ef1027d75afad830588e4ad53282c629e71b0ba0b1e380a1849fb6ba4f"
  },
  "kernelspec": {
   "display_name": "Python 3.7.11 64-bit ('dq3': conda)",
   "name": "python3"
  },
  "language_info": {
   "codemirror_mode": {
    "name": "ipython",
    "version": 3
   },
   "file_extension": ".py",
   "mimetype": "text/x-python",
   "name": "python",
   "nbconvert_exporter": "python",
   "pygments_lexer": "ipython3",
   "version": "3.7.11"
  }
 },
 "nbformat": 4,
 "nbformat_minor": 2
}
